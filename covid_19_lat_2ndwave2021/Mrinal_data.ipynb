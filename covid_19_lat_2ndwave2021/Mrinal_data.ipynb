{
 "cells": [
  {
   "cell_type": "code",
   "execution_count": 20,
   "id": "f7cdc220",
   "metadata": {},
   "outputs": [],
   "source": [
    "def ui_key(match=None):\n",
    "    '''District datas Corona in Indian States'''\n",
    "    try:\n",
    "        print(match)\n",
    "\n",
    "        df= pd.read_excel('dataUI.xlsx', index_col=None)  \n",
    "        if match != None:\n",
    "           \n",
    "            dataframe_search=df[df['KEYWORDS'].str.contains(match)]\n",
    "            html= dataframe_search.to_html()#classes='table table-hover ')\n",
    "            html_searchkey = html.replace('<thead>','<thead class=\"thead-dark\">')\n",
    "            return html_searchkey\n",
    "\n",
    "        else:\n",
    "            html= df.to_html()#classes='table table-hover ')\n",
    "            html_df = html.replace('<thead>','<thead class=\"thead-dark\">')\n",
    "            return html_df #.sort_values('Country,Other')\n",
    "    except Exception as e:\n",
    "        print(\"Exception \",e)\n",
    "\n"
   ]
  },
  {
   "cell_type": "code",
   "execution_count": 5,
   "id": "b0a2894e",
   "metadata": {},
   "outputs": [
    {
     "name": "stdout",
     "output_type": "stream",
     "text": [
      "             DATE              SOURCE  WEBSITE/LINK           HEADLINE  \\\n",
      "0  12 th Aug 2022  MRO BUSINESS TODAY           NaN      ABC data Leak   \n",
      "1    2nd Apr 2021  MRO BUSINESS TODAY           NaN   ED on the Search   \n",
      "2  12 th Aug 2022  MRO BUSINESS TODAY           NaN  Big Data Exploded   \n",
      "3  12 th Aug 2022  MRO BUSINESS TODAY           NaN      Boom And Rack   \n",
      "4  12 th Aug 2022  MRO BUSINESS TODAY           NaN         CBI Raided   \n",
      "5    2nd Apr 2021  MRO BUSINESS TODAY           NaN         CBI Raided   \n",
      "6    2nd Apr 2021  MRO BUSINESS TODAY           NaN         CBI Raided   \n",
      "\n",
      "               NEWS DESCRIPTION CATEGORY OF THE NEWS  \\\n",
      "0   Data leak at central server           Agreements   \n",
      "1  Seraching the potential SCAM          MRO SUPPORT   \n",
      "2  Seraching the potential SCAM          MRO SUPPORT   \n",
      "3  Seraching the potential SCAM          MRO SUPPORT   \n",
      "4  Seraching the potential SCAM          MRO SUPPORT   \n",
      "5  Seraching the potential SCAM          MRO SUPPORT   \n",
      "6  Seraching the potential SCAM          MRO SUPPORT   \n",
      "\n",
      "                            KEYWORDS  \n",
      "0       Data E200, Cybercrime,misuse  \n",
      "1      Scam, Loot,misuse,power,money  \n",
      "2  Scam, Data E200,misuse,power,Loot  \n",
      "3   Props, No Idea, Cybercrime,Power  \n",
      "4  Big Scam, Loot,misuse,power,money  \n",
      "5  Big Scam, Loot,misuse,power,money  \n",
      "6  Big Scam, Loot,misuse,power,money  \n"
     ]
    }
   ],
   "source": [
    "import pandas as pd\n",
    "\n",
    "df= pd.read_excel('dataUI.xlsx', index_col=None)  \n",
    "print(df)"
   ]
  },
  {
   "cell_type": "code",
   "execution_count": 19,
   "id": "17d4de68",
   "metadata": {},
   "outputs": [
    {
     "name": "stdout",
     "output_type": "stream",
     "text": [
      "Cybercrime\n"
     ]
    },
    {
     "data": {
      "text/html": [
       "<div>\n",
       "<style scoped>\n",
       "    .dataframe tbody tr th:only-of-type {\n",
       "        vertical-align: middle;\n",
       "    }\n",
       "\n",
       "    .dataframe tbody tr th {\n",
       "        vertical-align: top;\n",
       "    }\n",
       "\n",
       "    .dataframe thead th {\n",
       "        text-align: right;\n",
       "    }\n",
       "</style>\n",
       "<table border=\"1\" class=\"dataframe\">\n",
       "  <thead>\n",
       "    <tr style=\"text-align: right;\">\n",
       "      <th></th>\n",
       "      <th>DATE</th>\n",
       "      <th>SOURCE</th>\n",
       "      <th>WEBSITE/LINK</th>\n",
       "      <th>HEADLINE</th>\n",
       "      <th>NEWS DESCRIPTION</th>\n",
       "      <th>CATEGORY OF THE NEWS</th>\n",
       "      <th>KEYWORDS</th>\n",
       "    </tr>\n",
       "  </thead>\n",
       "  <tbody>\n",
       "    <tr>\n",
       "      <th>0</th>\n",
       "      <td>12 th Aug 2022</td>\n",
       "      <td>MRO BUSINESS TODAY</td>\n",
       "      <td>NaN</td>\n",
       "      <td>ABC data Leak</td>\n",
       "      <td>Data leak at central server</td>\n",
       "      <td>Agreements</td>\n",
       "      <td>Data E200, Cybercrime,misuse</td>\n",
       "    </tr>\n",
       "    <tr>\n",
       "      <th>3</th>\n",
       "      <td>12 th Aug 2022</td>\n",
       "      <td>MRO BUSINESS TODAY</td>\n",
       "      <td>NaN</td>\n",
       "      <td>Boom And Rack</td>\n",
       "      <td>Seraching the potential SCAM</td>\n",
       "      <td>MRO SUPPORT</td>\n",
       "      <td>Props, No Idea, Cybercrime,Power</td>\n",
       "    </tr>\n",
       "  </tbody>\n",
       "</table>\n",
       "</div>"
      ],
      "text/plain": [
       "             DATE              SOURCE  WEBSITE/LINK       HEADLINE  \\\n",
       "0  12 th Aug 2022  MRO BUSINESS TODAY           NaN  ABC data Leak   \n",
       "3  12 th Aug 2022  MRO BUSINESS TODAY           NaN  Boom And Rack   \n",
       "\n",
       "               NEWS DESCRIPTION CATEGORY OF THE NEWS  \\\n",
       "0   Data leak at central server           Agreements   \n",
       "3  Seraching the potential SCAM          MRO SUPPORT   \n",
       "\n",
       "                           KEYWORDS  \n",
       "0      Data E200, Cybercrime,misuse  \n",
       "3  Props, No Idea, Cybercrime,Power  "
      ]
     },
     "execution_count": 19,
     "metadata": {},
     "output_type": "execute_result"
    }
   ],
   "source": [
    "df\n",
    "match=\"Cybercrime\"\n",
    "\n",
    "print(match)\n",
    "df[df['KEYWORDS'].str.contains(match)]"
   ]
  },
  {
   "cell_type": "code",
   "execution_count": 21,
   "id": "38141883",
   "metadata": {},
   "outputs": [
    {
     "name": "stdout",
     "output_type": "stream",
     "text": [
      "Cybercrime\n"
     ]
    },
    {
     "data": {
      "text/plain": [
       "'<table border=\"1\" class=\"dataframe\">\\n  <thead class=\"thead-dark\">\\n    <tr style=\"text-align: right;\">\\n      <th></th>\\n      <th>DATE</th>\\n      <th>SOURCE</th>\\n      <th>WEBSITE/LINK</th>\\n      <th>HEADLINE</th>\\n      <th>NEWS DESCRIPTION</th>\\n      <th>CATEGORY OF THE NEWS</th>\\n      <th>KEYWORDS</th>\\n    </tr>\\n  </thead>\\n  <tbody>\\n    <tr>\\n      <th>0</th>\\n      <td>12 th Aug 2022</td>\\n      <td>MRO BUSINESS TODAY</td>\\n      <td>NaN</td>\\n      <td>ABC data Leak</td>\\n      <td>Data leak at central server</td>\\n      <td>Agreements</td>\\n      <td>Data E200, Cybercrime,misuse</td>\\n    </tr>\\n    <tr>\\n      <th>3</th>\\n      <td>12 th Aug 2022</td>\\n      <td>MRO BUSINESS TODAY</td>\\n      <td>NaN</td>\\n      <td>Boom And Rack</td>\\n      <td>Seraching the potential SCAM</td>\\n      <td>MRO SUPPORT</td>\\n      <td>Props, No Idea, Cybercrime,Power</td>\\n    </tr>\\n  </tbody>\\n</table>'"
      ]
     },
     "execution_count": 21,
     "metadata": {},
     "output_type": "execute_result"
    }
   ],
   "source": [
    "ui_key(match=\"Cybercrime\")"
   ]
  },
  {
   "cell_type": "code",
   "execution_count": null,
   "id": "881bd6a2",
   "metadata": {},
   "outputs": [],
   "source": []
  }
 ],
 "metadata": {
  "kernelspec": {
   "display_name": "Python 3 (ipykernel)",
   "language": "python",
   "name": "python3"
  },
  "language_info": {
   "codemirror_mode": {
    "name": "ipython",
    "version": 3
   },
   "file_extension": ".py",
   "mimetype": "text/x-python",
   "name": "python",
   "nbconvert_exporter": "python",
   "pygments_lexer": "ipython3",
   "version": "3.9.5"
  }
 },
 "nbformat": 4,
 "nbformat_minor": 5
}
